{
  "cells": [
    {
      "cell_type": "markdown",
      "metadata": {
        "colab_type": "text",
        "id": "view-in-github"
      },
      "source": [
        "<a href=\"https://colab.research.google.com/github/Edfred1/Contextual-Music-Crafter/blob/main/CMC.ipynb\" target=\"_parent\"><img src=\"https://colab.research.google.com/assets/colab-badge.svg\" alt=\"Open In Colab\"/></a>"
      ]
    },
    {
      "cell_type": "markdown",
      "metadata": {
        "id": "a94f4cdb"
      },
      "source": [
        "### Installation and Setup\n",
        "\n",
        "This section covers cloning the repository and installing the necessary dependencies."
      ]
    },
    {
      "cell_type": "code",
      "execution_count": null,
      "metadata": {
        "id": "044cf93d"
      },
      "outputs": [],
      "source": [
        "# Clone the Git repository\n",
        "!git clone https://github.com/Edfred1/Contextual-Music-Crafter.git\n",
        "%cd Contextual-Music-Crafter\n",
        "\n",
        "# Install dependencies\n",
        "!pip install -r requirements.txt"
      ]
    },
    {
      "cell_type": "markdown",
      "metadata": {
        "id": "0b65b129"
      },
      "source": [
        "### Configuration\n",
        "\n",
        "Here, we configure the `config.yaml` file. This file contains settings for the AI API, musical parameters, and instrument definitions. You'll need to replace `\"YOUR_GOOGLE_AI_API_KEY\"` with your actual Google AI API key."
      ]
    },
    {
      "cell_type": "code",
      "execution_count": null,
      "metadata": {
        "id": "0054eefc"
      },
      "outputs": [],
      "source": [
        "from ruamel.yaml import YAML\n",
        "from pathlib import Path\n",
        "\n",
        "# Path to config.yaml\n",
        "config_path = Path('config.yaml')\n",
        "\n",
        "# Load existing config (preserve comments); create a minimal starter if missing\n",
        "yaml = YAML(typ='rt')\n",
        "yaml.preserve_quotes = True\n",
        "yaml.indent(mapping=2, sequence=4, offset=2)\n",
        "\n",
        "doc = None\n",
        "if config_path.exists():\n",
        "    try:\n",
        "        with config_path.open('r', encoding='utf-8') as f:\n",
        "            doc = yaml.load(f)\n",
        "    except Exception:\n",
        "        doc = None\n",
        "\n",
        "if doc is None:\n",
        "    doc = yaml.load(\"\"\"\n",
        "api_key:\n",
        "  - \"YOUR_GOOGLE_AI_API_KEY_1\"\n",
        "model_name: \"gemini-2.5-pro\"\n",
        "temperature: 0\n",
        "inspiration: \"A new track\"\n",
        "genre: \"House\"\n",
        "bpm: 125\n",
        "key_scale: \"C minor\"\n",
        "automation_settings:\n",
        "  use_pitch_bend: 0\n",
        "  use_sustain_pedal: 0\n",
        "  use_cc_automation: 0\n",
        "  allowed_cc_numbers: [1, 10, 11, 74]\n",
        "max_output_tokens: 65536\n",
        "context_window_size: -1\n",
        "use_call_and_response: 0\n",
        "number_of_iterations: 1\n",
        "time_signature:\n",
        "  beats_per_bar: 4\n",
        "  beat_value: 4\n",
        "instruments:\n",
        "  - name: \"Drums\"\n",
        "    program_num: 10\n",
        "    role: \"drums\"\n",
        "  - name: \"Bass\"\n",
        "    program_num: 39\n",
        "    role: \"bass\"\n",
        "\"\"\")\n",
        "\n",
        "# Prompt for optional updates without destroying comments\n",
        "api_keys_input = input(\"Enter Google AI API key(s), comma-separated (Enter to keep): \").strip()\n",
        "if api_keys_input:\n",
        "    keys = [k.strip() for k in api_keys_input.split(',') if k.strip()]\n",
        "    # Always store as list to support rotation\n",
        "    doc['api_key'] = keys\n",
        "\n",
        "model = input(f\"Model name [{doc.get('model_name','gemini-2.5-pro')}]: \").strip()\n",
        "if model:\n",
        "    doc['model_name'] = model\n",
        "\n",
        "# Quick edits (press Enter to keep values)\n",
        "for k in ['inspiration', 'genre', 'bpm', 'key_scale']:\n",
        "    cur = doc.get(k, '')\n",
        "    val = input(f\"{k} [{cur}]: \").strip()\n",
        "    if val:\n",
        "        if k == 'bpm':\n",
        "            try:\n",
        "                val = int(val)\n",
        "            except Exception:\n",
        "                pass\n",
        "        doc[k] = val\n",
        "\n",
        "# Ensure automation block exists and optionally update\n",
        "auto = doc.get('automation_settings') or {}\n",
        "\n",
        "def _to01(x):\n",
        "    try:\n",
        "        return 1 if int(x) == 1 else 0\n",
        "    except Exception:\n",
        "        return 0\n",
        "\n",
        "if input(\"Edit automation settings? (y/N): \").strip().lower() == 'y':\n",
        "    auto['use_pitch_bend'] = _to01(input(f\"use_pitch_bend [{auto.get('use_pitch_bend',0)}]: \") or auto.get('use_pitch_bend',0))\n",
        "    auto['use_sustain_pedal'] = _to01(input(f\"use_sustain_pedal [{auto.get('use_sustain_pedal',0)}]: \") or auto.get('use_sustain_pedal',0))\n",
        "    auto['use_cc_automation'] = _to01(input(f\"use_cc_automation [{auto.get('use_cc_automation',0)}]: \") or auto.get('use_cc_automation',0))\n",
        "    if auto.get('use_cc_automation',0) == 1:\n",
        "        cc_str = input(f\"allowed_cc_numbers {auto.get('allowed_cc_numbers',[1,10,11,74])}: \").strip()\n",
        "        if cc_str:\n",
        "            try:\n",
        "                auto['allowed_cc_numbers'] = [int(x.strip()) for x in cc_str.split(',') if x.strip()]\n",
        "            except Exception:\n",
        "                pass\n",
        "\n",
        "doc['automation_settings'] = auto\n",
        "\n",
        "# Save back preserving comments\n",
        "with config_path.open('w', encoding='utf-8') as f:\n",
        "    yaml.dump(doc, f)\n",
        "\n",
        "print(\"config.yaml updated (comments preserved).\")"
      ]
    },
    {
      "cell_type": "markdown",
      "metadata": {
        "id": "942b83e0"
      },
      "source": [
        "### Running a Python Program from the Repository\n",
        "\n",
        "This cell lists the Python programs found in the cloned repository and prompts you to select one to execute. The selected program will then be run based on the configuration."
      ]
    },
    {
      "cell_type": "code",
      "execution_count": null,
      "metadata": {
        "id": "5acca677"
      },
      "outputs": [],
      "source": [
        "import os\n",
        "\n",
        "# Get a list of all files and directories in the cloned repository\n",
        "files_and_directories = os.listdir('.')\n",
        "\n",
        "# Filter for Python files\n",
        "python_files = [f for f in files_and_directories if f.endswith('.py')]\n",
        "\n",
        "if not python_files:\n",
        "    print(\"No Python files found in the repository.\")\n",
        "else:\n",
        "    print(\"Found Python files:\")\n",
        "    for i, filename in enumerate(python_files):\n",
        "        print(f\"{i+1}. {filename}\")\n",
        "\n",
        "    # Prompt the user to select a file\n",
        "    while True:\n",
        "        try:\n",
        "            choice = int(input(f\"Enter the number of the file to execute (1-{len(python_files)}): \"))\n",
        "            if 1 <= choice <= len(python_files):\n",
        "                selected_file = python_files[choice - 1]\n",
        "                print(f\"Executing {selected_file}...\")\n",
        "                # Execute the selected Python file\n",
        "                !python {selected_file}\n",
        "                break\n",
        "            else:\n",
        "                print(\"Invalid input. Please enter a number from the list.\")\n",
        "        except ValueError:\n",
        "            print(\"Invalid input. Please enter a number.\")"
      ]
    }
  ],
  "metadata": {
    "colab": {
      "include_colab_link": true,
      "provenance": []
    },
    "kernelspec": {
      "display_name": "Python 3",
      "name": "python3"
    },
    "language_info": {
      "name": "python"
    }
  },
  "nbformat": 4,
  "nbformat_minor": 0
}
