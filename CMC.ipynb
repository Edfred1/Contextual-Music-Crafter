{
  "nbformat": 4,
  "nbformat_minor": 0,
  "metadata": {
    "colab": {
      "provenance": [],
      "authorship_tag": "ABX9TyNe4as8/NHHb0yIWGOXDDGN",
      "include_colab_link": true
    },
    "kernelspec": {
      "name": "python3",
      "display_name": "Python 3"
    },
    "language_info": {
      "name": "python"
    }
  },
  "cells": [
    {
      "cell_type": "markdown",
      "metadata": {
        "id": "view-in-github",
        "colab_type": "text"
      },
      "source": [
        "<a href=\"https://colab.research.google.com/github/Edfred1/Contextual-Music-Crafter/blob/main/CMC.ipynb\" target=\"_parent\"><img src=\"https://colab.research.google.com/assets/colab-badge.svg\" alt=\"Open In Colab\"/></a>"
      ]
    },
    {
      "cell_type": "markdown",
      "metadata": {
        "id": "a94f4cdb"
      },
      "source": [
        "### Installation and Setup\n",
        "\n",
        "This section covers cloning the repository and installing the necessary dependencies."
      ]
    },
    {
      "cell_type": "code",
      "metadata": {
        "id": "044cf93d"
      },
      "source": [
        "# Clone the Git repository\n",
        "!git clone https://github.com/Edfred1/Contextual-Music-Crafter.git\n",
        "%cd Contextual-Music-Crafter\n",
        "\n",
        "# Install dependencies\n",
        "!pip install -r requirements.txt"
      ],
      "execution_count": null,
      "outputs": []
    },
    {
      "cell_type": "markdown",
      "metadata": {
        "id": "0b65b129"
      },
      "source": [
        "### Configuration\n",
        "\n",
        "Here, we configure the `config.yaml` file. This file contains settings for the AI API, musical parameters, and instrument definitions. You'll need to replace `\"YOUR_GOOGLE_AI_API_KEY\"` with your actual Google AI API key."
      ]
    },
    {
      "cell_type": "code",
      "metadata": {
        "id": "0054eefc"
      },
      "source": [
        "import yaml\n",
        "\n",
        "# Path to config.yaml\n",
        "config_path = 'config.yaml'\n",
        "\n",
        "new_config_content = \"\"\"\n",
        "# API Configuration\n",
        "# Replace with your actual Google AI API key.\n",
        "api_key: \"YOUR_GOOGLE_AI_API_KEY\" #YOUR_GOOGLE_AI_API_KEY\n",
        "model_name: \"gemini-2.5-flash\" #\"gemini-2.5-pro-exp-03-25\"  #gemini-2.5-flash-preview-05-20 #gemini-1.5-flash # Recommended models\n",
        "\n",
        "# --- Musical Parameters ---\n",
        "# Use these settings to define the core musical direction of your generated track.\n",
        "\n",
        "# A detailed description of the musical style you want to create.\n",
        "# Be specific about feeling, instrumentation, and rhythm. You can also name\n",
        "# artists (e.g. \"in the style of Daft Punk\"), songs, albums, or other concepts as inspiration.\n",
        "# Example: \"A high-energy, four-on-the-floor house track in the style of Daft Punk.\n",
        "# Focus on a funky, filtered bassline, a classic house piano chord progression,\n",
        "# and a simple, catchy lead synth melody. The drums should be punchy and groovy.\"\n",
        "inspiration: \"A high-energy, four-on-the-floor house track with a funky bassline and Weird melodies\"\n",
        "\n",
        "# The primary genre of the track. This helps the AI understand the conventions to follow.\n",
        "genre: \"Techno\"\n",
        "\n",
        "# Beats Per Minute (Tempo) of the song.\n",
        "bpm: 130 # Example: Set BPM to 130\n",
        "\n",
        "# The key and scale of the song (e.g., \"C major\", \"A minor\", \"F# dorian\").\n",
        "# The script supports a wide variety of scales and church modes.\n",
        "# Available scales: \"major\", \"ionian\", \"minor\", \"natural minor\", \"aeolian\",\n",
        "# \"harmonic minor\", \"melodic minor\", \"dorian\", \"phrygian\", \"lydian\",\n",
        "# \"mixolydian\", \"locrian\", \"major pentatonic\", \"minor pentatonic\", \"chromatic\",\n",
        "# \"whole tone\", \"diminished\", \"augmented\", \"byzantine\", \"hungarian minor\",\n",
        "# \"persian\", \"arabic\", \"jewish\", \"ahava raba\", \"blues\", \"major blues\"\n",
        "key_scale: \"F minor\"\n",
        "\n",
        "# Enables a \"call and response\" generation mode for melodic instruments.\n",
        "# 0 = Disabled: Each track is generated independently based on the full context.\n",
        "# 1 = Enabled: Melodic instruments will try to create a dialogue by playing in the gaps left by other melodic parts.\n",
        "use_call_and_response: 0\n",
        "\n",
        "# The number of complete songs to generate in a single run.\n",
        "number_of_iterations: 1\n",
        "\n",
        "# The time signature of the song.\n",
        "time_signature:\n",
        "  beats_per_bar: 4\n",
        "  beat_value: 4 # (4 = quarter note)\n",
        "\n",
        "# --- Instrument Definitions ---\n",
        "# Define the instruments that will make up your arrangement.\n",
        "# Each instrument is a list item with a `name`, a `program_num` (General MIDI program number), and a `role`.\n",
        "# The `role` tells the AI the musical function of the track.\n",
        "# Available Roles:\n",
        "#   - \"drums\":      The main rhythmic foundation (kick, snare, hats).\n",
        "#   - \"percussion\": Complementary rhythmic elements (bongos, congas, shakers).\n",
        "#   - \"sub_bass\":   Very deep, fundamental bass (often a sine wave).\n",
        "#   - \"bass\":       The main, rhythmic bassline. (Responds to Call/Response)\n",
        "#   - \"pads\":       Atmospheric pads, long/slow chords.\n",
        "#   - \"atmosphere\": Similar to pads, often more textured or evolving.\n",
        "#   - \"texture\":    Sonic textures, not necessarily melodic or rhythmic.\n",
        "#   - \"chords\":     Defines the chord progression, can be rhythmic stabs or sustained. (Responds to Call/Response)\n",
        "#   - \"harmony\":    Similar to chords, providing harmonic structure.\n",
        "#   - \"arp\":        An arpeggio; plays chord notes sequentially in a pattern. (Responds to Call/Response)\n",
        "#   - \"guitar\":     Versatile for riffs, melodies, or rhythmic chords. (Responds to Call/Response)\n",
        "#   - \"lead\":       The main melody or riff, the focal point. (Responds to Call/Response)\n",
        "#   - \"melody\":     A secondary or supporting melody line. (Responds to Call/Response)\n",
        "#   - \"vocal\":      Rhythmic vocal chops or short, catchy phrases. (Responds to Call/Response)\n",
        "#   - \"fx\":         Sound effects, risers, impacts, sweeps, etc.\n",
        "#   - \"complementary\": A general, complementary role (default if no role is specified).\n",
        "\n",
        "#The order in this list determines the generation order.\n",
        "# You can add as many instruments as you like to the list below.\n",
        "# The script will generate a part for each one sequentially.\n",
        "instruments:\n",
        "  - name: \"Drums\"\n",
        "    program_num: 10      # Standard Drum Kit (often ignored by DAWs, but required)\n",
        "    role: \"drums\"\n",
        "\n",
        "  - name: \"Funky Bass\"\n",
        "    program_num: 39 # Synth Bass 2\n",
        "    role: \"bass\"\n",
        "\n",
        "  - name: \"House Piano\"\n",
        "    program_num: 2  # Acoustic Grand Piano\n",
        "    role: \"harmony\"\n",
        "\n",
        "  - name: \"Lead Synth\"\n",
        "    program_num: 82 # Lead 2 (sawtooth)\n",
        "    role: \"melody\"\n",
        "\n",
        "  - name: \"Percussion\"\n",
        "    program_num: 12\n",
        "    role: \"complementary\"\n",
        "\n",
        "# --- MIDI Technical Reference ---\n",
        "# This section is for information only and does not configure the script.\n",
        "#\n",
        "# General MIDI Channel Assignments:\n",
        "# The script automatically handles channel assignments based on instrument roles.\n",
        "#\n",
        "# - Channel 10 (internal index 9): Reserved for Drums & Percussion.\n",
        "#   Any instrument with the role \"drums\" or \"percussion\" will be assigned to this channel\n",
        "#   to ensure it plays with a drum kit sound in any standard MIDI player.\n",
        "#\n",
        "# - Channels 1-9 & 11-16: Used for Melodic & Tonal Instruments.\n",
        "#   All other roles (bass, pads, lead, etc.) are assigned to these channels.\n",
        "#   The script assigns them sequentially, skipping channel 10.\n",
        "#\n",
        "# General MIDI Program Numbers (Examples for reference):\n",
        "#   1-8: Pianos\n",
        "#   9-16: Chromatic Percussion\n",
        "#   17-24: Organs\n",
        "#   25-32: Guitars\n",
        "#   33-40: Basses\n",
        "#   41-48: Strings\n",
        "#   49-56: Ensemble\n",
        "#   57-64: Brass\n",
        "#   65-72: Reed\n",
        "#   73-80: Pipe\n",
        "#   81-88: Synth Lead\n",
        "#   89-96: Synth Pad\n",
        "#   97-104: Synth Effects\n",
        "#   105-112: Ethnic\n",
        "#   113-120: Percussive\n",
        "#   121-128: Sound Effects\n",
        "\"\"\"\n",
        "\n",
        "# Write the new content to config.yaml\n",
        "with open(config_path, 'w') as file:\n",
        "    file.write(new_config_content)\n",
        "\n",
        "print(f\"Configuration updated in {config_path}.\")\n",
        "\n",
        "# Optional: Display the updated content to verify the change\n",
        "with open(config_path, 'r') as file:\n",
        "    print(\"\\nUpdated content of config.yaml:\")\n",
        "    print(file.read())"
      ],
      "execution_count": null,
      "outputs": []
    },
    {
      "cell_type": "markdown",
      "metadata": {
        "id": "942b83e0"
      },
      "source": [
        "### Running the Program\n",
        "\n",
        "This cell executes the main Python script `part_generator.py` to generate the music based on the configuration. The program will prompt you to enter the desired length in bars."
      ]
    },
    {
      "cell_type": "code",
      "metadata": {
        "id": "c1c29f80"
      },
      "source": [
        "# Start the Python program\n",
        "# The main file is 'part_generator.py'.\n",
        "# Make sure you are in the correct directory (Contextual-Music-Crafter).\n",
        "!python part_generator.py"
      ],
      "execution_count": null,
      "outputs": []
    }
  ]
}
